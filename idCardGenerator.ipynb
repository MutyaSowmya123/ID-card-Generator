{
 "cells": [
  {
   "cell_type": "code",
   "execution_count": 1,
   "id": "00a0e10f",
   "metadata": {},
   "outputs": [
    {
     "name": "stdout",
     "output_type": "stream",
     "text": [
      "Requirement already satisfied: reportlab in c:\\softwares\\anaconda\\lib\\site-packages (4.2.0)\n",
      "Requirement already satisfied: pillow>=9.0.0 in c:\\softwares\\anaconda\\lib\\site-packages (from reportlab) (9.4.0)\n",
      "Requirement already satisfied: chardet in c:\\softwares\\anaconda\\lib\\site-packages (from reportlab) (4.0.0)\n",
      "Note: you may need to restart the kernel to use updated packages.\n"
     ]
    }
   ],
   "source": [
    "pip install reportlab"
   ]
  },
  {
   "cell_type": "code",
   "execution_count": 4,
   "id": "e2e9f4be",
   "metadata": {},
   "outputs": [],
   "source": [
    "from reportlab.lib.pagesizes import letter\n",
    "from reportlab.pdfgen import canvas\n",
    "from reportlab.lib.utils import ImageReader\n",
    "from reportlab.platypus import SimpleDocTemplate, PageBreak\n",
    "import csv\n",
    "import os\n",
    "\n",
    "from PIL import Image\n",
    "\n",
    "def is_valid_image(path):\n",
    "    try:\n",
    "        img = Image.open(path)\n",
    "        img.verify()\n",
    "        return True\n",
    "    except (IOError, SyntaxError):\n",
    "        return False\n",
    "\n",
    "def main(template_image, csv_file, photo_directory, output_file):\n",
    "    # Creating a PDF document\n",
    "    doc = SimpleDocTemplate(output_file, pagesize=letter)\n",
    "    \n",
    "    # Opening the PDF document\n",
    "    c = canvas.Canvas(output_file, pagesize=letter)\n",
    "    \n",
    "    # Open the CSV file\n",
    "    with open(csv_file, 'r') as file:\n",
    "        reader = csv.DictReader(file)\n",
    "        \n",
    "        # Loop through each record in the CSV\n",
    "        for row in reader:\n",
    "            photo_path = os.path.join(photo_directory, row['photo'])\n",
    "            if is_valid_image(photo_path):\n",
    "                data = {'name': row['name'], 'position': row['position'], 'photo': photo_path}\n",
    "                \n",
    "                # Generate ID card for the record\n",
    "                create_id_card(c, template_image, data)\n",
    "                \n",
    "                # Add page break for the next ID card\n",
    "                c.showPage()\n",
    "    \n",
    "    # Save the PDF document\n",
    "    c.save()\n",
    "\n",
    "def create_id_card(canvas, template_image, data):\n",
    "    # Adding template image\n",
    "    img = ImageReader(template_image)\n",
    "    img_width, img_height = img.getSize()\n",
    "    \n",
    "    # Adjusting width and height for the template image\n",
    "    target_width = letter[0] * 0.8 \n",
    "    scale_factor = target_width / img_width\n",
    "    target_height = img_height * scale_factor\n",
    "    \n",
    "    # to Calculate position to center the image horizontally and vertically\n",
    "    x = (letter[0] - target_width) / 2\n",
    "    y = (letter[1] - target_height) / 2\n",
    "    \n",
    "    # Draw template image\n",
    "    canvas.drawImage(img, x, y, width=target_width, height=target_height)\n",
    "\n",
    "    # Add employee information\n",
    "    name_text = f\"Name: {data['name']}\"\n",
    "    position_text = f\"Position: {data['position']}\"\n",
    "    canvas.setFont(\"Helvetica\", 12)\n",
    "    canvas.drawString(100, 270, name_text)  # Adjust the Y position for the name\n",
    "    canvas.drawString(100, 250, position_text)  # Adjust the Y position for the position\n",
    "    \n",
    "    # Add employee photo\n",
    "    employee_photo = ImageReader(data['photo'])\n",
    "    \n",
    "    # Adjust the position of the photo\n",
    "    photo_x = 348  # x axis position of photo\n",
    "    photo_y = 350  # y axis position of photo\n",
    "    canvas.drawImage(employee_photo, photo_x, photo_y, width=150, height=150)\n",
    "\n",
    "if __name__ == \"__main__\":\n",
    "    template_image = \"ute_id_template.png\"\n",
    "    csv_file = \"sampleData.csv\" #sample data I considered\n",
    "    photo_directory = \"photos\"   # sample photos directory I considered\n",
    "    output_file = \"employee_id_cards.pdf\" #the output pdf file will be generated \n",
    "    main(template_image, csv_file, photo_directory, output_file)\n"
   ]
  },
  {
   "cell_type": "code",
   "execution_count": null,
   "id": "2f11b554",
   "metadata": {},
   "outputs": [],
   "source": []
  }
 ],
 "metadata": {
  "kernelspec": {
   "display_name": "Python 3 (ipykernel)",
   "language": "python",
   "name": "python3"
  },
  "language_info": {
   "codemirror_mode": {
    "name": "ipython",
    "version": 3
   },
   "file_extension": ".py",
   "mimetype": "text/x-python",
   "name": "python",
   "nbconvert_exporter": "python",
   "pygments_lexer": "ipython3",
   "version": "3.11.4"
  }
 },
 "nbformat": 4,
 "nbformat_minor": 5
}
